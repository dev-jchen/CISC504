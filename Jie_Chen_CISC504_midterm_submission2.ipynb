{
 "cells": [
  {
   "cell_type": "code",
   "execution_count": 2,
   "metadata": {},
   "outputs": [
    {
     "name": "stdout",
     "output_type": "stream",
     "text": [
      "Please enter the amount of balance\n",
      "0\n",
      "Balance =  0.0 Please select an item:\n",
      "\tItem 0  price =  1.65\n",
      "\tItem 1  price =  2.25\n",
      "\tItem 2  price =  4.55\n",
      "\tItem 3  price =  2.34\n",
      "3\n",
      "you selected item  3 , price =  2.34\n",
      "\n",
      "Insert More Money (only accept one 5-dollar bill)\n",
      "\n",
      "Your change is:\n",
      "2   dollar\n",
      "2   quarter\n",
      "1   dime\n",
      "1   nickel\n",
      "1   penny\n"
     ]
    }
   ],
   "source": [
    "def dispenseChange(change):   \n",
    "    # print change\n",
    "    print('Your change is:')\n",
    "    listBill = [1.0, 0.25, 0.1, 0.05, 0.01]\n",
    "    listUnit = ['dollar', 'quarter', 'dime', 'nickel', 'penny']\n",
    "    for i in range(5):        \n",
    "        if (change > 0):\n",
    "            j = int(change / listBill[i])\n",
    "            if (j > 0): \n",
    "                print (j, ' ', listUnit[i])\n",
    "                change -= j * listBill[i]\n",
    "\n",
    "def main():\n",
    "    print('Please enter the amount of balance')\n",
    "    balance = float(input())\n",
    "    # print item price info   \n",
    "    listPrice = [1.65, 2.25, 4.55, 2.34]\n",
    "    itemSize = len(listPrice)\n",
    "    print('Balance = ', balance, 'Please select an item:')\n",
    "    for i in range(itemSize):\n",
    "        print('\\tItem', i , ' price = ', listPrice[i])\n",
    "    # ask for item\n",
    "    itemSelected = int(input())\n",
    "    if (itemSelected < 0 or itemSelected > itemSize):\n",
    "        print('Invalid Item')\n",
    "        return\n",
    "    print('you selected item ', itemSelected , ', price = ', listPrice[itemSelected])\n",
    "    # ask for money if needed\n",
    "    if (balance < listPrice[itemSelected]):\n",
    "        print('\\nInsert More Money (only accept one 5-dollar bill)\\n')\n",
    "        balance += 5.0\n",
    "    dispenseChange(balance - listPrice[itemSelected])\n",
    "\n",
    "main()"
   ]
  },
  {
   "cell_type": "code",
   "execution_count": 6,
   "metadata": {},
   "outputs": [
    {
     "name": "stdout",
     "output_type": "stream",
     "text": [
      "Please input source string:\n",
      "I love python\n",
      "I-LOVE-PYTHON!\n"
     ]
    }
   ],
   "source": [
    "def transformString(source):\n",
    "    result = ''\n",
    "    for ch in source:\n",
    "        # if lower case\n",
    "        if (ch >= 'a' and ch <= 'z'):\n",
    "            result += chr(ord(ch) - 32)\n",
    "        elif (ch == ' '):\n",
    "            result += '-'\n",
    "        else:\n",
    "            result += ch\n",
    "    result += '!'\n",
    "    return result\n",
    "\n",
    "def main():\n",
    "    print('Please input source string:')\n",
    "    source = input()\n",
    "    print(transformString(source))\n",
    "\n",
    "main()"
   ]
  },
  {
   "cell_type": "code",
   "execution_count": 12,
   "metadata": {},
   "outputs": [
    {
     "name": "stdout",
     "output_type": "stream",
     "text": [
      "Welcome! Let me help you choose a car\n",
      "Q.1: How many times do you need to drive every week? 5\n",
      "Q.2: How many people will be in the car? 4\n",
      "SUV will suit your need:\n",
      "1 .  Toyota RAV4 $25,850\n",
      "2 .  Honda CRV $24,450\n",
      "3 .  Suburu Forester $24,495\n",
      "4 .  Ford Escape $24,885\n",
      "Please choose one: 1\n",
      "You choosed: Toyota RAV4 $25,850\n"
     ]
    }
   ],
   "source": [
    "def printCarList(listCar):\n",
    "    id = 1\n",
    "    for c in listCar:\n",
    "        print(id, '. ', c)\n",
    "        id += 1\n",
    "\n",
    "\n",
    "def getChoice(listOption):\n",
    "    choice = 0\n",
    "    minOption = 1\n",
    "    maxOption = len(listOption) + 1\n",
    "    while(True):\n",
    "        choice = int(input('Please choose one: '))\n",
    "        if (choice >= minOption and choice <= maxOption):\n",
    "            break\n",
    "        else:\n",
    "            print(\"Invalid input, please try again\")\n",
    "    print('You choosed:', listOption[choice - 1])\n",
    "    return choice\n",
    "\n",
    "\n",
    "def main():\n",
    "    print('Welcome! Let me help you choose a car')\n",
    "    listSedan = ['Toyota Camry $24,295', 'Honda Accord $23,870',\n",
    "                 'Audi A6 $54,900', 'Ford Fusion $23,170']\n",
    "    listSUV = ['Toyota RAV4 $25,850', 'Honda CRV $24,450',\n",
    "               'Suburu Forester $24,495', 'Ford Escape $24,885']\n",
    "    listMinivan = ['Toyota Sienna $31,565', 'Honda Odyssey $30,690',\n",
    "                   'Chrysler Pacifica $27,235', 'Dodge Grand Caravan $27,040']\n",
    "    # quention 1 frequence of drive\n",
    "    drivePerWeek = int(input('Q.1: How many times do you need to drive every week? '))\n",
    "    if (drivePerWeek < 3):\n",
    "        hasSharedRide = input(\"Is Uber or Taxi available, yes or no? \")\n",
    "        if (hasSharedRide == 'yes'):\n",
    "            print('Advice: Use Taxi or Uber instead.')\n",
    "            return\n",
    "        elif (hasSharedRide != 'no'):\n",
    "            print('Invalid input, I could not help -_-!')\n",
    "            return\n",
    "    numOfPeople = int(input('Q.2: How many people will be in the car? '))\n",
    "    if (numOfPeople >= 1 and numOfPeople <= 3):\n",
    "        print('Sedan will suit your need:')\n",
    "        printCarList(listSedan)\n",
    "        sedan = getChoice(listSedan)\n",
    "    elif (numOfPeople >= 4 and numOfPeople <= 5):\n",
    "        print('SUV will suit your need:')\n",
    "        printCarList(listSUV)\n",
    "        suv = getChoice(listSUV)\n",
    "    elif (numOfPeople >= 6 and numOfPeople <= 7):\n",
    "        print('Minivan will suit your need:')\n",
    "        printCarList(listMinivan)\n",
    "        minivan = getChoice(listMinivan)\n",
    "    elif (numOfPeople >= 8):\n",
    "        print('Advice: you really need a bus.')\n",
    "        return\n",
    "    else:\n",
    "        print('Invalid number of people, I could not help -_-!')\n",
    "\n",
    "\n",
    "main()"
   ]
  }
 ],
 "metadata": {
  "kernelspec": {
   "display_name": "Python 3",
   "language": "python",
   "name": "python3"
  },
  "language_info": {
   "codemirror_mode": {
    "name": "ipython",
    "version": 3
   },
   "file_extension": ".py",
   "mimetype": "text/x-python",
   "name": "python",
   "nbconvert_exporter": "python",
   "pygments_lexer": "ipython3",
   "version": "3.7.3"
  }
 },
 "nbformat": 4,
 "nbformat_minor": 2
}
