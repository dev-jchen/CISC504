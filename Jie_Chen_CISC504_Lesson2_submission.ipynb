{
 "cells": [
  {
   "cell_type": "code",
   "execution_count": 1,
   "metadata": {},
   "outputs": [
    {
     "name": "stdout",
     "output_type": "stream",
     "text": [
      "What is the length in inch?:37\n",
      "The length in centimeter is 93.98 cm\n"
     ]
    }
   ],
   "source": [
    "# This program convert inch to centimeter\n",
    "a = float(input('What is the length in inch?:'))\n",
    "x = a*2.54\n",
    "print('The length in centimeter is',x,'cm')"
   ]
  }
 ],
 "metadata": {
  "kernelspec": {
   "display_name": "Python 3",
   "language": "python",
   "name": "python3"
  },
  "language_info": {
   "codemirror_mode": {
    "name": "ipython",
    "version": 3
   },
   "file_extension": ".py",
   "mimetype": "text/x-python",
   "name": "python",
   "nbconvert_exporter": "python",
   "pygments_lexer": "ipython3",
   "version": "3.7.3"
  }
 },
 "nbformat": 4,
 "nbformat_minor": 2
}
