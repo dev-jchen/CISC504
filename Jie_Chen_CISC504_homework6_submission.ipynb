{
 "cells": [
  {
   "cell_type": "code",
   "execution_count": 12,
   "metadata": {
    "scrolled": false
   },
   "outputs": [
    {
     "name": "stdout",
     "output_type": "stream",
     "text": [
      "A\n",
      "C\n",
      "C\n",
      "B\n",
      "Lucky\n",
      "F\n"
     ]
    }
   ],
   "source": [
    "score_list = [95,83,77,92,60,59]\n",
    "for i in score_list:\n",
    "    if i >= 95: print('A')\n",
    "    elif i >= 85: print('B')\n",
    "    elif i >= 60: \n",
    "        if i == 60: print('Lucky')\n",
    "        else: print('C')\n",
    "    else: print('F')"
   ]
  },
  {
   "cell_type": "code",
   "execution_count": 24,
   "metadata": {},
   "outputs": [
    {
     "name": "stdout",
     "output_type": "stream",
     "text": [
      "Not possible to square a string!\n",
      "Work done!\n"
     ]
    }
   ],
   "source": [
    "a = 's'\n",
    "try:\n",
    "    a = a ** 2 \n",
    "except TypeError:\n",
    "    print('Not possible to square a string!')\n",
    "else:\n",
    "    print('Squared a!')\n",
    "finally:\n",
    "    print('Work done!')"
   ]
  }
 ],
 "metadata": {
  "kernelspec": {
   "display_name": "Python 3",
   "language": "python",
   "name": "python3"
  },
  "language_info": {
   "codemirror_mode": {
    "name": "ipython",
    "version": 3
   },
   "file_extension": ".py",
   "mimetype": "text/x-python",
   "name": "python",
   "nbconvert_exporter": "python",
   "pygments_lexer": "ipython3",
   "version": "3.7.3"
  }
 },
 "nbformat": 4,
 "nbformat_minor": 2
}
