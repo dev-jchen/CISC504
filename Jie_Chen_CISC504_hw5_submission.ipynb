{
 "cells": [
  {
   "cell_type": "code",
   "execution_count": 8,
   "metadata": {},
   "outputs": [
    {
     "name": "stdout",
     "output_type": "stream",
     "text": [
      "35\n"
     ]
    }
   ],
   "source": [
    "list1 = [5,8,2,4,7,9]\n",
    "Sum = sum(list1)\n",
    "print (Sum)"
   ]
  },
  {
   "cell_type": "code",
   "execution_count": 11,
   "metadata": {},
   "outputs": [
    {
     "name": "stdout",
     "output_type": "stream",
     "text": [
      "720\n"
     ]
    }
   ],
   "source": [
    "import numpy\n",
    "list2 = [4,3,5,6,2]\n",
    "Multiply = numpy.prod(list2)\n",
    "print(Multiply)"
   ]
  },
  {
   "cell_type": "code",
   "execution_count": 19,
   "metadata": {},
   "outputs": [
    {
     "name": "stdout",
     "output_type": "stream",
     "text": [
      "[[5 5 8 8 9 8]\n",
      " [7 7 5 3 5 7]\n",
      " [8 7 8 4 2 6]\n",
      " [9 9 7 3 1 4]]\n"
     ]
    }
   ],
   "source": [
    "import numpy as np\n",
    "array_hw=np.array([[5,5,8,8,9,8],[7,7,5,3,5,7],[8,7,8,4,2,6],[9,9,7,3,1,4]])\n",
    "print(array_hw)"
   ]
  },
  {
   "cell_type": "code",
   "execution_count": 21,
   "metadata": {},
   "outputs": [
    {
     "name": "stdout",
     "output_type": "stream",
     "text": [
      "array_hw:\n",
      "[[5 5 8 8 9 8]\n",
      " [7 7 5 3 5 7]\n",
      " [8 7 8 4 2 6]\n",
      " [9 9 7 3 1 4]]\n",
      "\n",
      "flattened array_hw:\n",
      "[5 5 8 8 9 8 7 7 5 3 5 7 8 7 8 4 2 6 9 9 7 3 1 4]\n"
     ]
    }
   ],
   "source": [
    "#a) Sort the flattened array\n",
    "print('array_hw:')\n",
    "print(array_hw)\n",
    "print('')\n",
    "print('flattened array_hw:')\n",
    "flat_array_hw=array_hw.flatten()\n",
    "print(flat_array_hw)"
   ]
  },
  {
   "cell_type": "code",
   "execution_count": 22,
   "metadata": {},
   "outputs": [
    {
     "name": "stdout",
     "output_type": "stream",
     "text": [
      "array_hw:\n",
      "[[5 5 8 8 9 8]\n",
      " [7 7 5 3 5 7]\n",
      " [8 7 8 4 2 6]\n",
      " [9 9 7 3 1 4]]\n",
      "\n",
      "second column of array_hw:\n",
      "[5 7 7 9]\n"
     ]
    }
   ],
   "source": [
    "#b) Sort the second column\n",
    "print('array_hw:')\n",
    "print(array_hw)\n",
    "print('')\n",
    "print('second column of array_hw:')\n",
    "print(array_hw[...,1])"
   ]
  },
  {
   "cell_type": "code",
   "execution_count": 23,
   "metadata": {},
   "outputs": [
    {
     "name": "stdout",
     "output_type": "stream",
     "text": [
      "array_hw:\n",
      "[[5 5 8 8 9 8]\n",
      " [7 7 5 3 5 7]\n",
      " [8 7 8 4 2 6]\n",
      " [9 9 7 3 1 4]]\n",
      "\n",
      "third row of array_hw:\n",
      "[8 7 8 4 2 6]\n"
     ]
    }
   ],
   "source": [
    "#c) Sort the third row\n",
    "print('array_hw:')\n",
    "print(array_hw)\n",
    "print('')\n",
    "print('third row of array_hw:')\n",
    "print(array_hw[2,...])"
   ]
  },
  {
   "cell_type": "code",
   "execution_count": 25,
   "metadata": {},
   "outputs": [
    {
     "name": "stdout",
     "output_type": "stream",
     "text": [
      "array_hw:\n",
      "[[5 5 8 8 9 8]\n",
      " [7 7 5 3 5 7]\n",
      " [8 7 8 4 2 6]\n",
      " [9 9 7 3 1 4]]\n",
      "\n",
      "first two rows of array_hw:\n",
      "[[5 5 8 8 9 8]\n",
      " [7 7 5 3 5 7]]\n"
     ]
    }
   ],
   "source": [
    "#d) Extract the second row onwards\n",
    "print('array_hw:')\n",
    "print(array_hw)\n",
    "print('')\n",
    "print('first two rows of array_hw:')\n",
    "print(array_hw[:2,...])"
   ]
  },
  {
   "cell_type": "code",
   "execution_count": 28,
   "metadata": {},
   "outputs": [
    {
     "name": "stdout",
     "output_type": "stream",
     "text": [
      "array_hw:\n",
      "[[5 5 8 8 9 8]\n",
      " [7 7 5 3 5 7]\n",
      " [8 7 8 4 2 6]\n",
      " [9 9 7 3 1 4]]\n",
      "\n",
      "first three columns of array_hw:\n",
      "[[5 5 8]\n",
      " [7 7 5]\n",
      " [8 7 8]\n",
      " [9 9 7]]\n"
     ]
    }
   ],
   "source": [
    "#e) Extract the third column onwards\n",
    "print('array_hw:')\n",
    "print(array_hw)\n",
    "print('')\n",
    "print('first three columns of array_hw:')\n",
    "print(array_hw[...,:3])"
   ]
  },
  {
   "cell_type": "code",
   "execution_count": 41,
   "metadata": {},
   "outputs": [
    {
     "name": "stdout",
     "output_type": "stream",
     "text": [
      "[[25 25 64 64 81 64]\n",
      " [49 49 25  9 25 49]\n",
      " [64 49 64 16  4 36]\n",
      " [81 81 49  9  1 16]]\n"
     ]
    }
   ],
   "source": [
    "#f) obtain the square of array_hw\n",
    "print(array_hw**2)"
   ]
  },
  {
   "cell_type": "code",
   "execution_count": 33,
   "metadata": {},
   "outputs": [
    {
     "name": "stdout",
     "output_type": "stream",
     "text": [
      "array_hw:\n",
      "[[5 5 8 8 9 8]\n",
      " [7 7 5 3 5 7]\n",
      " [8 7 8 4 2 6]\n",
      " [9 9 7 3 1 4]]\n",
      "\n",
      "element sliced from third row and fourth column:\n",
      "4\n"
     ]
    }
   ],
   "source": [
    "#g)Slice the element from the third row and fourth column position 3X4\n",
    "print('array_hw:')\n",
    "print(array_hw)\n",
    "print('')\n",
    "print('element sliced from third row and fourth column:')\n",
    "print(array_hw[2,3])"
   ]
  },
  {
   "cell_type": "code",
   "execution_count": 34,
   "metadata": {},
   "outputs": [
    {
     "data": {
      "text/plain": [
       "145"
      ]
     },
     "execution_count": 34,
     "metadata": {},
     "output_type": "execute_result"
    }
   ],
   "source": [
    "# f) obtain the total sum of array_hw\n",
    "array_hw.sum()"
   ]
  },
  {
   "cell_type": "code",
   "execution_count": 35,
   "metadata": {},
   "outputs": [
    {
     "data": {
      "text/plain": [
       "2"
      ]
     },
     "execution_count": 35,
     "metadata": {},
     "output_type": "execute_result"
    }
   ],
   "source": [
    "# h) How many dimentions does array_hw have?\n",
    "array_hw.ndim"
   ]
  },
  {
   "cell_type": "code",
   "execution_count": 39,
   "metadata": {},
   "outputs": [
    {
     "data": {
      "text/plain": [
       "dtype('int32')"
      ]
     },
     "execution_count": 39,
     "metadata": {},
     "output_type": "execute_result"
    }
   ],
   "source": [
    "# i) What is the data type listed in array_hw?\n",
    "array_hw.dtype"
   ]
  },
  {
   "cell_type": "code",
   "execution_count": 40,
   "metadata": {},
   "outputs": [
    {
     "data": {
      "text/plain": [
       "24"
      ]
     },
     "execution_count": 40,
     "metadata": {},
     "output_type": "execute_result"
    }
   ],
   "source": [
    "# j) What is the size of the memory in bytes consumed by all the elements in array_hw?\n",
    "array_hw.size"
   ]
  }
 ],
 "metadata": {
  "kernelspec": {
   "display_name": "Python 3",
   "language": "python",
   "name": "python3"
  },
  "language_info": {
   "codemirror_mode": {
    "name": "ipython",
    "version": 3
   },
   "file_extension": ".py",
   "mimetype": "text/x-python",
   "name": "python",
   "nbconvert_exporter": "python",
   "pygments_lexer": "ipython3",
   "version": "3.7.3"
  }
 },
 "nbformat": 4,
 "nbformat_minor": 2
}
