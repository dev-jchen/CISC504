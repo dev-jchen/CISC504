{
 "cells": [
  {
   "cell_type": "code",
   "execution_count": 5,
   "metadata": {
    "scrolled": true
   },
   "outputs": [
    {
     "name": "stdout",
     "output_type": "stream",
     "text": [
      "Enter your First_name:John\n",
      "Enter your Last_name:Smith\n"
     ]
    },
    {
     "data": {
      "text/plain": [
       "'Jsmith'"
      ]
     },
     "execution_count": 5,
     "metadata": {},
     "output_type": "execute_result"
    }
   ],
   "source": [
    "string1=input('Enter your First_name:')\n",
    "string2=input('Enter your Last_name:')\n",
    "string1[:1]+string2.lower()"
   ]
  },
  {
   "cell_type": "code",
   "execution_count": 8,
   "metadata": {},
   "outputs": [
    {
     "data": {
      "text/plain": [
       "'Secret'"
      ]
     },
     "execution_count": 8,
     "metadata": {},
     "output_type": "execute_result"
    }
   ],
   "source": [
    "string1='Send eagle cross rainbow entire time.'\n",
    "string1[:1]+string1[5:6]+string1[11:12]+string1[17:18]+string1[25:26]+string1[32:33]"
   ]
  },
  {
   "cell_type": "code",
   "execution_count": 16,
   "metadata": {},
   "outputs": [
    {
     "name": "stdout",
     "output_type": "stream",
     "text": [
      "This program decrypt a encoded message to the text.\n",
      "Enter the encoded message:74 73 69 67 72 69 78\n",
      "The decrypt message is: J\n",
      "The decrypt message is: JI\n",
      "The decrypt message is: JIE\n",
      "The decrypt message is: JIEC\n",
      "The decrypt message is: JIECH\n",
      "The decrypt message is: JIECHE\n",
      "The decrypt message is: JIECHEN\n"
     ]
    }
   ],
   "source": [
    "print('This program decrypt a encoded message to the text.')\n",
    "inString = input('Enter the encoded message:')\n",
    "message = ''\n",
    "for numStr in inString.split():\n",
    "    encodenum = int(numStr)\n",
    "    message = message + chr(encodenum)\n",
    "    print('The decrypt message is:',message)"
   ]
  }
 ],
 "metadata": {
  "kernelspec": {
   "display_name": "Python 3",
   "language": "python",
   "name": "python3"
  },
  "language_info": {
   "codemirror_mode": {
    "name": "ipython",
    "version": 3
   },
   "file_extension": ".py",
   "mimetype": "text/x-python",
   "name": "python",
   "nbconvert_exporter": "python",
   "pygments_lexer": "ipython3",
   "version": "3.7.3"
  }
 },
 "nbformat": 4,
 "nbformat_minor": 2
}
